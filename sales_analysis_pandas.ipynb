{
 "cells": [
  {
   "cell_type": "markdown",
   "id": "5a57224f-3be9-4e38-93fa-68ddbe505afd",
   "metadata": {},
   "source": [
    "# Sales Analysis"
   ]
  },
  {
   "cell_type": "markdown",
   "id": "db0fa21d-8af2-4aa5-8247-5a5e04ef8809",
   "metadata": {},
   "source": [
    "*__Disclaimer__*: The datasets used in this notebook were taken from the tutorial provided by @KeithGalli (check out his GitHub). I followed his tutorial in YouTube, however, I tried to use other functions and methods I considered more suitable for the questions at hand.\n",
    "\n",
    "Even though I believe this notebook is very self explanatory (and heavily commented), I'd recommend checking his tutorial on YouTube so you get an idea of the problem at hand.\n",
    "\n",
    "The idea of this tutorial is to use __pandas__ to make analysis on a dataset that comprises the yearly sales of a business. We will import the data into python and navigate our way through the data to come up with answers to typical questions a business owner might be interested about regarding this data."
   ]
  },
  {
   "cell_type": "markdown",
   "id": "11b24255-174e-41ea-853d-41c82e86d02a",
   "metadata": {},
   "source": [
    "## Import necessary libraries"
   ]
  },
  {
   "cell_type": "markdown",
   "id": "4de02fbf-ed0f-437a-9224-c92fb8147724",
   "metadata": {},
   "source": [
    "Let's start by importing libraries we will be using in this tutorial"
   ]
  },
  {
   "cell_type": "code",
   "execution_count": null,
   "id": "e54ad973-b8f5-47cc-9d0c-1a0c119c7313",
   "metadata": {},
   "outputs": [],
   "source": [
    "import glob\n",
    "import matplotlib.pyplot as plt\n",
    "import matplotlib.ticker as mtick\n",
    "import numpy as np\n",
    "import os\n",
    "import pandas as pd"
   ]
  },
  {
   "cell_type": "markdown",
   "id": "dc03bf43-a02a-4282-a1e6-d75f0f665dc9",
   "metadata": {},
   "source": [
    "## Merge all the CSV files into a single DataFrame"
   ]
  },
  {
   "cell_type": "markdown",
   "id": "32b56e69-1ee5-4ec8-965b-ca26fb658c7a",
   "metadata": {},
   "source": [
    "Now let's import the data, which comprises 12 months of sales. Then, let's combine all the data into a single DataFrame."
   ]
  },
  {
   "cell_type": "code",
   "execution_count": null,
   "id": "9847856c-4c0c-4d85-a92d-1dc5959a66b9",
   "metadata": {},
   "outputs": [],
   "source": [
    "# Merge all the files using Unix style pathname pattern\n",
    "joined_files = os.path.join(\"./csv\", \"*.csv\")"
   ]
  },
  {
   "cell_type": "code",
   "execution_count": null,
   "id": "69290411-dc73-4d67-87c2-b71a1fbdcd61",
   "metadata": {},
   "outputs": [],
   "source": [
    "# 'glob' is a Unix style pathname pattern expansion\n",
    "# The next line will return a list with the paths to\n",
    "# all the CSV files in the folder ./csv/\n",
    "# Furthermore, the list will be in order (by month: Jan - Feb - etc.)\n",
    "joined_list = glob.glob(joined_files)"
   ]
  },
  {
   "cell_type": "code",
   "execution_count": null,
   "id": "f328a21e-b3df-4317-a49b-e4c0d3321eb5",
   "metadata": {},
   "outputs": [],
   "source": [
    "# Finally, concatenate all the CSV files into a single DataFrame\n",
    "df = pd.concat(map(pd.read_csv, joined_list), ignore_index=True)\n",
    "df.head()\n",
    "\n",
    "# Save final DataFrame to CSV (not required, but good to know how to do it!)\n",
    "# df.to_csv(\"all_data.csv\", index=False)"
   ]
  },
  {
   "cell_type": "markdown",
   "id": "604b73f6-b8f7-473d-9922-868777903a9a",
   "metadata": {},
   "source": [
    "## Clean up the data"
   ]
  },
  {
   "cell_type": "markdown",
   "id": "33f2f83a-2c69-4084-970c-49d60495396a",
   "metadata": {},
   "source": [
    "The dataset has some rows with irrelevant data and missing information, so let's delete those entries so we have a clean dataset to work with."
   ]
  },
  {
   "cell_type": "code",
   "execution_count": null,
   "id": "1bb0a6fe-124a-4a65-af51-be03a51e1901",
   "metadata": {},
   "outputs": [],
   "source": [
    "# Check for rows with NaN values\n",
    "df[df[\"Order Date\"].isna()]"
   ]
  },
  {
   "cell_type": "code",
   "execution_count": null,
   "id": "20ef08ae-eaeb-4361-b197-8330acff45f7",
   "metadata": {},
   "outputs": [],
   "source": [
    "# Drop rows with NaN values\n",
    "df = df.dropna(how=\"all\")"
   ]
  },
  {
   "cell_type": "code",
   "execution_count": null,
   "id": "d2a3c36a-81af-404e-9df3-6505ff692188",
   "metadata": {},
   "outputs": [],
   "source": [
    "# There are some rows that repeat the header multiple times\n",
    "df.loc[df[\"Order Date\"] == \"Order Date\"]"
   ]
  },
  {
   "cell_type": "code",
   "execution_count": null,
   "id": "e3baf6d1-ee91-4286-9f91-7a3612f71102",
   "metadata": {},
   "outputs": [],
   "source": [
    "# Let's delete those lines. I will use the 'Order Date' to do so. You can use any\n",
    "# column you find convenient\n",
    "df = df.drop(df[df[\"Order Date\"] == \"Order Date\"].index) \n",
    "# df = df[df[\"Order Date\"] != \"Order Date\"]    # This is another way to achieve the same result"
   ]
  },
  {
   "cell_type": "code",
   "execution_count": null,
   "id": "751913a5-179a-4429-9daa-5682695afd38",
   "metadata": {},
   "outputs": [],
   "source": [
    "# Let's index the DataFrame with the 'Order Date' -> Convert to 'datetime'\n",
    "# object so we can manipulate dates easily\n",
    "df[\"Order Date\"] = pd.to_datetime(df[\"Order Date\"])\n",
    "df = df.set_index(\"Order Date\")"
   ]
  },
  {
   "cell_type": "code",
   "execution_count": null,
   "id": "b8d7f5d0-c8be-41fe-9ff9-524c3f8b1ed4",
   "metadata": {},
   "outputs": [],
   "source": [
    "# Let's change the type of numeric columns from 'str' to 'int' and 'float'\n",
    "df[\"Quantity Ordered\"] = df[\"Quantity Ordered\"].astype('int32')\n",
    "# df[\"Order ID\"] = df[\"Order ID\"].astype('int32')\n",
    "df[\"Price Each\"] = df[\"Price Each\"].astype('float')"
   ]
  },
  {
   "cell_type": "markdown",
   "id": "854eea80-fd37-4617-9727-ae6cd8261477",
   "metadata": {
    "tags": []
   },
   "source": [
    "## Analysis of the data"
   ]
  },
  {
   "cell_type": "markdown",
   "id": "439a8c60-6d04-48c4-98a4-97f4171d1f53",
   "metadata": {},
   "source": [
    "#### __Question 1__ What was the best month for sales? How much was earned that month?"
   ]
  },
  {
   "cell_type": "markdown",
   "id": "93caa2bb-bdbd-4bca-952e-bf764bcafe66",
   "metadata": {},
   "source": [
    "To answer this question, let's multiply the price of each article by the quantity ordered, and store the value in a new column. Then we can add the results per month, and in this way we can figure out which was the best month for sales, as well as the amount earned on that month"
   ]
  },
  {
   "cell_type": "code",
   "execution_count": null,
   "id": "001c04d3-c6d5-4bd2-9d78-72e46bbefef3",
   "metadata": {},
   "outputs": [],
   "source": [
    "# Create new column 'Sales' = 'Quantity' * 'Price'\n",
    "df[\"Sales\"] = df[\"Quantity Ordered\"] * df[\"Price Each\"]\n",
    "\n",
    "# Group sales per month\n",
    "total_sales_monthly = df.groupby(by=[df.index.month])[\"Sales\"].sum()\n",
    "\n",
    "# Let's format our output so it looks nice\n",
    "total_sales_monthly.map('{:,.2f}'.format)"
   ]
  },
  {
   "cell_type": "markdown",
   "id": "ceb08417-b0a4-4e09-8ff6-96f31ae59144",
   "metadata": {},
   "source": [
    "From the table we can see that the best month was December, with total sales of \\\\$4,613,443.34, not too shabby!!! On ther hand, the worst month was January with only \\\\$1,822,256.73\n",
    "\n",
    "Most of the time we will find that plots are a great way to convey results, so let's do that with our monthly sales"
   ]
  },
  {
   "cell_type": "code",
   "execution_count": null,
   "id": "5628e168-9632-4982-ba02-7cb54b4e8c5a",
   "metadata": {},
   "outputs": [],
   "source": [
    "# Let's plot a bar chart\n",
    "\n",
    "# You can use the Series.plot() method from pandas, but I think is not as customizable as Matplotlib\n",
    "# total_sales_monthly.plot(kind='bar', xlabel=\"Month\", ylabel=\"Sales ($)\", title=\"Monthly Sales\")\n",
    "\n",
    "# I will use Matplotlib\n",
    "months = [\"Jan\", \"Feb\", \"Mar\", \"Apr\", \"May\", \"Jun\", \"Jul\", \"Aug\", \"Sep\", \"Oct\", \"Nov\", \"Dec\"]\n",
    "fig, ax = plt.subplots(1, 1, figsize=(8, 5))\n",
    "height = np.random.randint(100000, 500000, 10)\n",
    "plt.bar(months, total_sales_monthly)\n",
    "\n",
    "fmt = '${x:,.0f}'\n",
    "tick = mtick.StrMethodFormatter(fmt)\n",
    "ax.yaxis.set_major_formatter(tick)\n",
    "\n",
    "plt.xlabel(\"Month\")\n",
    "plt.ylabel(\"Sales ($)\")\n",
    "plt.title(\"Monthly Sales\")\n",
    "plt.xticks(rotation=30)\n",
    "\n",
    "plt.show()"
   ]
  },
  {
   "cell_type": "markdown",
   "id": "0a21afff-00eb-430a-b55b-1310a70e250b",
   "metadata": {},
   "source": [
    "From the first question we can see that sales tend to peak by the end of the year. This is understandable, since the holiday season is around the corner. We know that dates such as Black Friday and Christmas contribute enourmously to the increase in sales compared to the rest of the year.\n",
    "\n",
    "There is also some increase in sales during April: people are getting ready for summer break and businesses take advantage to finish stock by launching last minute deals. The rest of the year is relatively quiet."
   ]
  },
  {
   "cell_type": "markdown",
   "id": "b805ec93-a181-4e9d-8673-276e5eb81b02",
   "metadata": {},
   "source": [
    "#### __Question 2__: What city sold the most products?"
   ]
  },
  {
   "cell_type": "markdown",
   "id": "9c133f5b-623d-4c4c-ba71-aa49396344cd",
   "metadata": {},
   "source": [
    "This is similar to the previous question, but this time we need to group the data by city, and then add the total sales to figure out the city with the most sales throughout the year"
   ]
  },
  {
   "cell_type": "code",
   "execution_count": null,
   "id": "b7bc446c-26d3-4f61-a764-d8b10091f761",
   "metadata": {},
   "outputs": [],
   "source": [
    "# Let's collect the city and state from the 'Purchase Address' column\n",
    "# We can use Regex to very easily achieve this objective\n",
    "# Notice we collect also the state since there might be cities with the same\n",
    "# name but in different states\n",
    "df[\"City\"] = df[\"Purchase Address\"].str.extract(r\"[.+,](.*, [A-Z][A-Z])[ , .*]\")"
   ]
  },
  {
   "cell_type": "code",
   "execution_count": null,
   "id": "0f1b9246-8220-4998-9df9-97bc07c11c5c",
   "metadata": {},
   "outputs": [],
   "source": [
    "# Group sales per city\n",
    "# You can sort the values by adding the 'sort_values()' method\n",
    "sales_per_city = df.groupby([\"City\"])[\"Sales\"].sum() # .sort_values(ascending=False)\n",
    "\n",
    "# Let's format our output so it looks nice\n",
    "sales_per_city.map('{:,.2f}'.format)"
   ]
  },
  {
   "cell_type": "markdown",
   "id": "0e9fe75b-1a2b-4318-bf13-ccf3389988ad",
   "metadata": {},
   "source": [
    "Let's plot the results"
   ]
  },
  {
   "cell_type": "code",
   "execution_count": null,
   "id": "c48e9241-9d66-41e3-97b1-962894fa1354",
   "metadata": {},
   "outputs": [],
   "source": [
    "# I will use Matplotlib\n",
    "fig, ax = plt.subplots(1, 1, figsize=(8, 5))\n",
    "height = np.random.randint(100000, 500000, 10)\n",
    "plt.bar(sales_per_city.index, sales_per_city)\n",
    "\n",
    "fmt = '${x:,.0f}'\n",
    "tick = mtick.StrMethodFormatter(fmt)\n",
    "ax.yaxis.set_major_formatter(tick)\n",
    "\n",
    "plt.xlabel(\"City\")\n",
    "plt.ylabel(\"Sales ($)\")\n",
    "plt.title(\"Yearly Sales per city\")\n",
    "plt.xticks(rotation=90, size=8)\n",
    "\n",
    "plt.show()"
   ]
  },
  {
   "cell_type": "markdown",
   "id": "5f5464f0-cfca-4279-881c-0adedb97d0cf",
   "metadata": {},
   "source": [
    "It can be seen that San Francisco is the city with the most sales throughout the year. The dataset comprises sales of electronics and gadgets, and given the proximity of San Francisco to Silicon Valley, this makes sense.\n",
    "\n",
    "Also it is worth pointing out that the cities with the most sales are also cities where people earn higher salaries, so consumers in cities like San Francisco, LA, NY, etc., have some buying power that allows them to spend more easily on these devices.\n",
    "\n",
    "On the other hand, people living in cities such as Portland (ME) and Portland (OR), where salaries are lower, might not be able to afford electronic gadgets with the same frequency as people living in bigger cities."
   ]
  },
  {
   "cell_type": "markdown",
   "id": "ff904af8-b866-4ebd-a2fc-238f4aa1db63",
   "metadata": {},
   "source": [
    "#### __Question 3__: What time should we display advertisements to maximize likelihood of customer's buying a product?"
   ]
  },
  {
   "cell_type": "code",
   "execution_count": null,
   "id": "2e53923e-f8c2-4b64-8eda-437e218c5797",
   "metadata": {},
   "outputs": [],
   "source": [
    "# Group sales per hours. In this case let's count the number of times\n",
    "#  sale was made made\n",
    "count_sales_hourly = df.groupby(by=[df.index.hour])[\"Quantity Ordered\"].count()\n",
    "\n",
    "# Let's format our output so it looks nice\n",
    "count_sales_hourly.map('{:,}'.format)"
   ]
  },
  {
   "cell_type": "markdown",
   "id": "a36dd38c-bcab-4059-b26c-630b7c0f31a8",
   "metadata": {},
   "source": [
    "Time to plot the results and get some insights"
   ]
  },
  {
   "cell_type": "code",
   "execution_count": null,
   "id": "85963550-4d13-46e4-b0be-d059f409f961",
   "metadata": {},
   "outputs": [],
   "source": [
    "# I will use Matplotlib\n",
    "fig, ax = plt.subplots(1, 1, figsize=(8, 5))\n",
    "height = np.random.randint(100000, 500000, 10)\n",
    "plt.plot(count_sales_hourly.index, count_sales_hourly)\n",
    "\n",
    "fmt = '{x:,.0f}'\n",
    "tick = mtick.StrMethodFormatter(fmt)\n",
    "ax.yaxis.set_major_formatter(tick)\n",
    "\n",
    "plt.xlabel(\"Hour of day\")\n",
    "plt.ylabel(\"Number of orders\")\n",
    "plt.title(\"Hourly number of orders throughout the year\")\n",
    "plt.xticks(np.arange(0, 24, step=2))\n",
    "plt.grid(True, linestyle=\":\")\n",
    "\n",
    "plt.show()"
   ]
  },
  {
   "cell_type": "markdown",
   "id": "8a45c940-c08c-4ec2-96ba-0c04451e8f3f",
   "metadata": {},
   "source": [
    "We can see that between 11:00 - 13:00 and 18:00 - 20:00 are the times with maximum demand for products. Therefore, we might deploy an advertisement to run just before 11:00 or noon, and also just before 18:00 or 19:00 in order to increase our chances of people buying the products."
   ]
  },
  {
   "cell_type": "markdown",
   "id": "8d4fe46a-2d7b-4fb7-a627-a54e18216642",
   "metadata": {},
   "source": [
    "#### __Question 4__: What product are most often sold together? "
   ]
  },
  {
   "cell_type": "markdown",
   "id": "bd8cb107-4576-4b68-a17d-0baddc4c815f",
   "metadata": {},
   "source": [
    "First, notice we have a column named 'Order ID'. If two or more products have the same order ID, then it means they were bought together. We can use this information to find which products are regularly bought together"
   ]
  },
  {
   "cell_type": "code",
   "execution_count": null,
   "id": "bce22d0e-ba52-4aa1-bce7-b4ad3210f109",
   "metadata": {},
   "outputs": [],
   "source": [
    "# Let's find the duplicated 'Order ID' in our DataFrame\n",
    "df_duplicate_id = df[df[\"Order ID\"].duplicated(keep=False)]\n",
    "df_duplicate_id"
   ]
  },
  {
   "cell_type": "code",
   "execution_count": null,
   "id": "b8a6717a-308e-40aa-9a34-2549318d414e",
   "metadata": {},
   "outputs": [],
   "source": [
    "# Now let's combine the products with the same Order ID in a single column\n",
    "# 'reset_index()' is required so the result is a DataFrame\n",
    "df_order_id = df_duplicate_id.groupby(\"Order ID\")[\"Product\"].unique().str.join(',').reset_index()\n",
    "df_order_id"
   ]
  },
  {
   "cell_type": "code",
   "execution_count": null,
   "id": "8e5c6f3a-8502-4284-b920-10aa6be828f6",
   "metadata": {},
   "outputs": [],
   "source": [
    "# Now let's import some libraries we will use to iterate and find most common pairs of products\n",
    "# that are bought together\n",
    "from collections import Counter\n",
    "from itertools import combinations"
   ]
  },
  {
   "cell_type": "code",
   "execution_count": null,
   "id": "29a531d4-ba43-4170-983e-ad9c962fc6c8",
   "metadata": {},
   "outputs": [],
   "source": [
    "# Start the counter\n",
    "count = Counter()\n",
    "\n",
    "# Iterate over each row in 'Products'\n",
    "for row in df_order_id[\"Product\"]:\n",
    "    # Split row at the comma\n",
    "    row_list = row.split(',')\n",
    "    \n",
    "    # Update counter of possible combinations of products (only pairs)\n",
    "    # If you want to check the most common 'trio' bought together, just change\n",
    "    # the number 2 for a 3. Similarly, if you'd like to know the most popular\n",
    "    # 4 items that were bought together, just update the number to 4, and so on...\n",
    "    count.update(Counter(combinations(row_list, 2)))\n",
    "\n",
    "# Print 10 most common pair of objects bought together\n",
    "count.most_common(10)"
   ]
  },
  {
   "cell_type": "markdown",
   "id": "f1456b44-4237-4fcb-a189-c54aa8860175",
   "metadata": {},
   "source": [
    "Even though the result on the screen might look messy, it is actually easy to read. Just check the beginning of the output and you will see that the list is sorted from the most common pair of elements that were bought together, to the least popular pair. So we can conclude that the pair comprised of an *iPhone* with a *Lightning Charging Cable* is the most popular pair of gadgets that were bought together (a whopping 1,002 times).\n",
    "\n",
    "This information is useful to businesses because they can create promotions based on the buying habits of most of their customers; or in this case, if a customer is buying an iPhone, the store might use the information we just found and offer the customer a Lightning Charging Cable. This is a strategy that might increase sales and help businesses with their stock turnover."
   ]
  },
  {
   "cell_type": "markdown",
   "id": "e463f0fe-053b-4245-a808-456ca6a1ee8a",
   "metadata": {},
   "source": [
    "#### __Question 5__: What product sold the most? Why?"
   ]
  },
  {
   "cell_type": "code",
   "execution_count": null,
   "id": "696c619e-fee6-4bdf-9e15-c05216fb413b",
   "metadata": {},
   "outputs": [],
   "source": [
    "# Let's group the DataFrame by 'Product', and see how many units were sold throughout the year\n",
    "most_popular_product = df.groupby(\"Product\")[\"Quantity Ordered\"].sum() # .sort_values(ascending=False)\n",
    "\n",
    "# Let's format our output so it looks nice\n",
    "most_popular_product.map('{:,}'.format)"
   ]
  },
  {
   "cell_type": "code",
   "execution_count": null,
   "id": "a74842e8-c78a-4f91-a4ec-c42322dc11e0",
   "metadata": {},
   "outputs": [],
   "source": [
    "# Let's compute average price of prodcts throughout the year\n",
    "prices = df.groupby(\"Product\")[\"Price Each\"].mean() # .sort_values(ascending=False)\n",
    "\n",
    "# Let's format our output so it looks nice\n",
    "prices.map('{:,}'.format)"
   ]
  },
  {
   "cell_type": "markdown",
   "id": "5a4c5973-efd7-49f4-b826-74e984cf33d2",
   "metadata": {},
   "source": [
    "Let's plot the results so we have a visual aid to interpret this results."
   ]
  },
  {
   "cell_type": "code",
   "execution_count": null,
   "id": "ce0f3b4e-419a-4b60-b863-bb37d6814cc9",
   "metadata": {},
   "outputs": [],
   "source": [
    "# I will use Matplotlib\n",
    "fig, ax = plt.subplots(1, 1, figsize=(8, 5))\n",
    "height = np.random.randint(100000, 500000, 10)\n",
    "plt.bar(most_popular_product.index, most_popular_product, color=\"green\")\n",
    "\n",
    "fmt = '{x:,.0f}'\n",
    "tick = mtick.StrMethodFormatter(fmt)\n",
    "ax.yaxis.set_major_formatter(tick)\n",
    "\n",
    "plt.xlabel(\"Product\")\n",
    "plt.ylabel(\"Units sold\", color=\"green\")\n",
    "plt.title(\"Yearly units sold\")\n",
    "plt.xticks(rotation=90, size=8)\n",
    "plt.yticks(color=\"green\")\n",
    "\n",
    "# Let's plot prices on top\n",
    "ax2 = ax.twinx()\n",
    "ax2.set_ylabel('Price ($)', color=\"red\")\n",
    "ax2.plot(most_popular_product.index, prices, color=\"red\")\n",
    "ax2.tick_params(axis='y', colors='red')\n",
    "\n",
    "fmt = '${x:,.0f}'\n",
    "tick = mtick.StrMethodFormatter(fmt)\n",
    "ax2.yaxis.set_major_formatter(tick)\n",
    "\n",
    "\n",
    "plt.show()"
   ]
  },
  {
   "cell_type": "markdown",
   "id": "e70b94a2-d977-4fcc-a343-74fe38354760",
   "metadata": {},
   "source": [
    "Incredibly, the most popular item were the AAA Batteries (4-pack). But come to think of it, it makes sense, since a lot of gadgets still require this type of batteries (like a TV remote control, some toys, or the control for your PS5/Xbox, etc.), and they need to be replaced regularly. "
   ]
  }
 ],
 "metadata": {
  "kernelspec": {
   "display_name": "Python 3 (ipykernel)",
   "language": "python",
   "name": "python3"
  },
  "language_info": {
   "codemirror_mode": {
    "name": "ipython",
    "version": 3
   },
   "file_extension": ".py",
   "mimetype": "text/x-python",
   "name": "python",
   "nbconvert_exporter": "python",
   "pygments_lexer": "ipython3",
   "version": "3.10.8"
  }
 },
 "nbformat": 4,
 "nbformat_minor": 5
}
